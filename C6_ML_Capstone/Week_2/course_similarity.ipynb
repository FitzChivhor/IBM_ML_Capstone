{
 "cells": [
  {
   "cell_type": "code",
   "execution_count": 1,
   "id": "4549d333-2753-4072-ad01-3b639b58ffbb",
   "metadata": {},
   "outputs": [],
   "source": [
    "import seaborn as sns\n",
    "import matplotlib.pyplot as plt\n",
    "import pandas as pd\n",
    "import numpy as np\n",
    "\n",
    "%matplotlib inline"
   ]
  },
  {
   "cell_type": "code",
   "execution_count": 2,
   "id": "e76e9a6c-e265-4a25-a1c9-761727959297",
   "metadata": {},
   "outputs": [],
   "source": [
    "# also set a random state\n",
    "rs = 123"
   ]
  },
  {
   "cell_type": "code",
   "execution_count": null,
   "id": "ee3dcdeb-f76f-4595-be1e-2bc154c81ab3",
   "metadata": {},
   "outputs": [],
   "source": [
    "# Let's first load the course content and BoW dataset\n",
    "course_url = \"https://cf-courses-data.s3.us.cloud-object-storage.appdomain.cloud/IBM-ML321EN-SkillsNetwork/labs/datasets/course_processed.csv\"\n",
    "course_df = pd.read_csv(course_url)\n",
    "bow_url = \"https://cf-courses-data.s3.us.cloud-object-storage.appdomain.cloud/IBM-ML321EN-SkillsNetwork/labs/datasets/courses_bows.csv\"\n",
    "bow_df = pd.read_csv(bow_url)"
   ]
  },
  {
   "cell_type": "code",
   "execution_count": null,
   "id": "4153874b-4f09-4e44-8f07-795919e904f0",
   "metadata": {},
   "outputs": [],
   "source": [
    "# Create course id to index and index to id mappings\n",
    "def get_doc_dicts(bow_df):\n",
    "    # Group the DataFrame by course index and ID, and get the maximum value for each group\n",
    "    grouped_df = bow_df.groupby(['doc_index', 'doc_id']).max().reset_index(drop=False)\n",
    "    # Create a dictionary mapping indices to course IDs\n",
    "    idx_id_dict = grouped_df[['doc_id']].to_dict()['doc_id']\n",
    "    # Create a dictionary mapping course IDs to indices\n",
    "    id_idx_dict = {v: k for k, v in idx_id_dict.items()}\n",
    "    # Clean up temporary DataFrame\n",
    "    del grouped_df\n",
    "    return idx_id_dict, id_idx_dict"
   ]
  },
  {
   "cell_type": "code",
   "execution_count": null,
   "id": "613baad7-4cc0-4b68-a663-c94a6ca09945",
   "metadata": {},
   "outputs": [],
   "source": [
    "course1 = course_df[course_df['COURSE_ID'] == \"ML0151EN\"]\n",
    "course1"
   ]
  },
  {
   "cell_type": "code",
   "execution_count": null,
   "id": "00f4fe87-6b6c-4d5a-986a-ed9800e689d1",
   "metadata": {},
   "outputs": [],
   "source": [
    "course2 = course_df[course_df['COURSE_ID'] == \"ML0101ENv3\"]\n",
    "course2"
   ]
  },
  {
   "cell_type": "code",
   "execution_count": null,
   "id": "d9cb9b01-afa1-491a-87ae-d5fe5f0a6c23",
   "metadata": {},
   "outputs": [],
   "source": [
    "idx_id_dict, id_idx_dict = get_doc_dicts(bow_df)\n",
    "idx1 = id_idx_dict[\"ML0151EN\"]\n",
    "idx2 = id_idx_dict[\"ML0101ENv3\"]\n",
    "print(f\"Course 1's index is {idx1} and Course 2's index is {idx2}\")"
   ]
  },
  {
   "cell_type": "code",
   "execution_count": null,
   "id": "041f4088-415a-4a91-b61c-dc07c78b2835",
   "metadata": {},
   "outputs": [],
   "source": [
    "idx_id_dict, id_idx_dict = get_doc_dicts(bow_df)\n",
    "idx1 = id_idx_dict[\"ML0151EN\"]\n",
    "idx2 = id_idx_dict[\"ML0101ENv3\"]\n",
    "print(f\"Course 1's index is {idx1} and Course 2's index is {idx2}\")"
   ]
  },
  {
   "cell_type": "code",
   "execution_count": null,
   "id": "24deb38b-8451-430f-919d-9ca8296df029",
   "metadata": {},
   "outputs": [],
   "source": [
    "sim = sim_matrix[idx1][idx2]\n",
    "sim"
   ]
  },
  {
   "cell_type": "code",
   "execution_count": null,
   "id": "eeebfd77-6956-4f0a-904d-342ccd9cbd29",
   "metadata": {},
   "outputs": [],
   "source": [
    "pd.set_option('display.max_rows', None)\n",
    "pd.set_option('max_colwidth', None)\n",
    "course_df[['COURSE_ID', 'TITLE']]"
   ]
  },
  {
   "cell_type": "code",
   "execution_count": null,
   "id": "7097b51f-4ce6-4575-aa49-c51cc431d056",
   "metadata": {},
   "outputs": [],
   "source": [
    "# Reset pandas settings\n",
    "pd.reset_option('display.max_rows')\n",
    "pd.reset_option('max_colwidth')"
   ]
  },
  {
   "cell_type": "code",
   "execution_count": null,
   "id": "43fa01d9-0ddb-484a-aca9-5044fc406995",
   "metadata": {},
   "outputs": [],
   "source": [
    "enrolled_course_ids = ['ML0122EN', 'ML0120EN'] # add your interested coures id to the list"
   ]
  },
  {
   "cell_type": "code",
   "execution_count": null,
   "id": "18b00da7-e0e2-40bf-b9fd-37e97ec87f9a",
   "metadata": {},
   "outputs": [],
   "source": [
    "enrolled_courses = course_df[course_df['COURSE_ID'].isin(enrolled_course_ids)]\n",
    "enrolled_courses"
   ]
  },
  {
   "cell_type": "code",
   "execution_count": null,
   "id": "3f722017-f6c0-461e-9d42-1780dd533e6b",
   "metadata": {},
   "outputs": [],
   "source": [
    "all_courses = set(course_df['COURSE_ID'])"
   ]
  },
  {
   "cell_type": "code",
   "execution_count": null,
   "id": "e78c4ebf-cb2d-46bf-b98d-82d379d3d5d9",
   "metadata": {},
   "outputs": [],
   "source": [
    "unselected_course_ids = all_courses.difference(enrolled_course_ids)\n",
    "unselected_course_ids"
   ]
  },
  {
   "cell_type": "code",
   "execution_count": null,
   "id": "62e8da9a-5f7f-4352-be08-ddac01c3e526",
   "metadata": {},
   "outputs": [],
   "source": [
    "def generate_recommendations_for_one_user(enrolled_course_ids, unselected_course_ids, id_idx_dict, sim_matrix):\n",
    "    # Create a dictionary to store your recommendation results\n",
    "    res = {}\n",
    "    # Set a threshold for similarity\n",
    "    threshold = 0.6 \n",
    "    # Iterate over enrolled courses\n",
    "    for enrolled_course in enrolled_course_ids:\n",
    "        # Iterate over unselected courses\n",
    "        for unselect_course in unselected_course_ids:\n",
    "            # Check if both enrolled and unselected courses exist in the id_idx_dict\n",
    "            if enrolled_course in id_idx_dict and unselect_course in id_idx_dict:\n",
    "                # Initialize similarity value\n",
    "                sim = 0\n",
    "                idx1 = id_idx_dict[enrolled_course]\n",
    "                idx2 = id_idx_dict[unselect_course]\n",
    "                sim = sim_matrix[idx1][idx2]\n",
    "                # Find the two indices for each enrolled_course and unselect_course, based on their two ids\n",
    "                # Calculate the similarity between an enrolled_course and an unselect_course\n",
    "                # e.g., Course ML0151EN's index is 200 and Course ML0101ENv3's index is 158\n",
    "                \n",
    "                # Find the similarity value from the sim_matrix\n",
    "                # sim = sim_matrix[200][158]\n",
    "                 # Check if the similarity exceeds the threshold\n",
    "                if sim > threshold:\n",
    "                    # Update recommendation dictionary with course ID and similarity score\n",
    "                    if unselect_course not in res:\n",
    "                        # If the unselected course is not already in the recommendation dictionary (`res`), add it.\n",
    "                        res[unselect_course] = sim\n",
    "                    else:\n",
    "                        # If the unselected course is already in the recommendation dictionary (`res`), compare the similarity score.\n",
    "                        # If the current similarity score is greater than or equal to the existing similarity score for the course,\n",
    "                        # update the similarity score in the recommendation dictionary (`res`) with the current similarity score.\n",
    "                        if sim >= res[unselect_course]:\n",
    "                            res[unselect_course] = sim\n",
    "                            \n",
    "    # Sort the results by similarity\n",
    "    res = {k: v for k, v in sorted(res.items(), key=lambda item: item[1], reverse=True)}\n",
    "     # Return the recommendation dictionary\n",
    "    return res\n",
    "\n",
    "generate_recommendations_for_one_user(enrolled_course_ids, unselected_course_ids, id_idx_dict, sim_matrix)"
   ]
  },
  {
   "cell_type": "code",
   "execution_count": null,
   "id": "b09d11fa-c601-4fcc-b6b9-a44ac4e1dd8b",
   "metadata": {},
   "outputs": [],
   "source": [
    "test_users_url = \"https://cf-courses-data.s3.us.cloud-object-storage.appdomain.cloud/IBM-ML321EN-SkillsNetwork/labs/datasets/rs_content_test.csv\"\n",
    "test_users_df = pd.read_csv(test_users_url)"
   ]
  },
  {
   "cell_type": "code",
   "execution_count": null,
   "id": "d24d6e67-b108-4144-98fd-ddbbce15d62c",
   "metadata": {},
   "outputs": [],
   "source": [
    "test_users = test_users_df.groupby(['user']).max().reset_index(drop=False)\n",
    "test_user_ids = test_users['user'].to_list()\n",
    "print(f\"Total numbers of test users {len(test_user_ids)}\")"
   ]
  },
  {
   "cell_type": "code",
   "execution_count": null,
   "id": "9f83b1f1-cea4-4b59-9ce6-f3cbc34ed918",
   "metadata": {},
   "outputs": [],
   "source": [
    "# WRITE YOUR CODE HERE\n",
    "def generate_recommendations_for_all():\n",
    "    users = []\n",
    "    courses = []\n",
    "    sim_scores = []\n",
    "    sim_df = pd.read_csv(sim_url)\n",
    "    course_df = pd.read_csv(course_url)\n",
    "    bow_df = pd.read_csv(bow_url)\n",
    "    test_users = test_users_df.groupby(['user']).max().reset_index(drop=False)\n",
    "    test_user_ids = test_users['user'].to_list()\n",
    "    \n",
    "    idx_id_dict, id_idx_dict = get_doc_dicts(bow_df)\n",
    "    sim_matrix = sim_df.to_numpy()\n",
    "    all_courses = set(course_df['COURSE_ID'])\n",
    "    \n",
    "    for user_id in test_user_ids:\n",
    "        enrolled_course_ids = test_users[test_users['user']==user_id]['item'].tolist()\n",
    "        unselected_course_ids = all_courses.difference(enrolled_course_ids)\n",
    "        \n",
    "        user_recommendations = generate_recommendations_for_one_user(enrolled_course_ids, unselected_course_ids, id_idx_dict, sim_matrix)\n",
    "        \n",
    "        for course, score in user_recommendations.items():\n",
    "            users.append(user_id)\n",
    "            courses.append(course)\n",
    "            sim_scores.append(score)\n",
    "    \n",
    "    return users, courses, sim_scores"
   ]
  },
  {
   "cell_type": "code",
   "execution_count": null,
   "id": "9589cbac-aeb2-4f28-a8cc-9fe5d196b42a",
   "metadata": {},
   "outputs": [],
   "source": [
    "res_dict = {}\n",
    "users, courses, sim_scores = generate_recommendations_for_all()\n",
    "res_dict['USER'] = users\n",
    "res_dict['COURSE_ID'] = courses\n",
    "res_dict['SCORE'] = sim_scores\n",
    "res_df = pd.DataFrame(res_dict, columns=['USER', 'COURSE_ID', 'SCORE'])\n",
    "res_df"
   ]
  }
 ],
 "metadata": {
  "kernelspec": {
   "display_name": "Python 3 (ipykernel)",
   "language": "python",
   "name": "python3"
  },
  "language_info": {
   "codemirror_mode": {
    "name": "ipython",
    "version": 3
   },
   "file_extension": ".py",
   "mimetype": "text/x-python",
   "name": "python",
   "nbconvert_exporter": "python",
   "pygments_lexer": "ipython3",
   "version": "3.11.9"
  }
 },
 "nbformat": 4,
 "nbformat_minor": 5
}
